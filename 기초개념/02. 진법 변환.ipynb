{
 "cells": [
  {
   "cell_type": "code",
   "execution_count": 3,
   "metadata": {},
   "outputs": [
    {
     "name": "stdout",
     "output_type": "stream",
     "text": [
      "9\n"
     ]
    }
   ],
   "source": [
    "# 다른 진법 숫자를 10진수로 변환\n",
    "\n",
    "def convert_to_decimal(number, base):\n",
    "    multiplier, result = 1, 0\n",
    "    while number > 0:\n",
    "        result += number % 10 * multiplier\n",
    "        multiplier *= base\n",
    "        number = number // 10\n",
    "    return result\n",
    "\n",
    "if __name__ == \"__main__\":\n",
    "    number, base = 1001, 2\n",
    "    print(convert_to_decimal(number, base))"
   ]
  },
  {
   "cell_type": "code",
   "execution_count": 4,
   "metadata": {},
   "outputs": [
    {
     "name": "stdout",
     "output_type": "stream",
     "text": [
      "1001\n"
     ]
    }
   ],
   "source": [
    "# 10진수를 다른 진법 숫자로 변환\n",
    "\n",
    "def convert_from_decimal(number ,base):\n",
    "    multiplier, result = 1, 0\n",
    "    while number > 0:\n",
    "        result += number % base * multiplier\n",
    "        multiplier *= 10\n",
    "        number = number // base\n",
    "    return result\n",
    "\n",
    "if __name__ == \"__main__\":\n",
    "    number, base = 9, 2\n",
    "    print(convert_from_decimal(number, base))"
   ]
  },
  {
   "cell_type": "code",
   "execution_count": 5,
   "metadata": {},
   "outputs": [
    {
     "name": "stdout",
     "output_type": "stream",
     "text": [
      "1F\n"
     ]
    }
   ],
   "source": [
    "# 10진수를 10진수보다 큰 진법의 숫자(문자포함)로 변환\n",
    "\n",
    "def convert_from_decimal_larger_bases(number, base):\n",
    "    strings = \"0123456789ABCDEFGHIJ\"\n",
    "    result = \"\"\n",
    "    while number > 0:\n",
    "        digit = number % base\n",
    "        result = strings[digit] + result\n",
    "        number = number // base\n",
    "    return result\n",
    "\n",
    "if __name__ == \"__main__\":\n",
    "    number, base = 31, 16\n",
    "    print(convert_from_decimal_larger_bases(number, base))"
   ]
  },
  {
   "cell_type": "code",
   "execution_count": 7,
   "metadata": {},
   "outputs": [
    {
     "name": "stdout",
     "output_type": "stream",
     "text": [
      "1001\n"
     ]
    }
   ],
   "source": [
    "# 재귀함수를 이용한 진법변환\n",
    "\n",
    "def convert_dec_to_any_base_rec(number, base):\n",
    "    convertString = \"0123456789ABCDEF\"\n",
    "    if number < base:\n",
    "        return convertString[number]\n",
    "    else:\n",
    "        return convert_dec_to_any_base_rec(number // base, base) + convertString[number % base]\n",
    "    \n",
    "if __name__ == \"__main__\":\n",
    "    number, base = 9, 2\n",
    "    print(convert_dec_to_any_base_rec(number, base))"
   ]
  },
  {
   "cell_type": "code",
   "execution_count": null,
   "metadata": {},
   "outputs": [],
   "source": []
  }
 ],
 "metadata": {
  "kernelspec": {
   "display_name": "Python 3",
   "language": "python",
   "name": "python3"
  },
  "language_info": {
   "codemirror_mode": {
    "name": "ipython",
    "version": 3
   },
   "file_extension": ".py",
   "mimetype": "text/x-python",
   "name": "python",
   "nbconvert_exporter": "python",
   "pygments_lexer": "ipython3",
   "version": "3.7.0"
  }
 },
 "nbformat": 4,
 "nbformat_minor": 4
}
