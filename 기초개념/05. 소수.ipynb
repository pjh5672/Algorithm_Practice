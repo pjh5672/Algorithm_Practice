{
 "cells": [
  {
   "cell_type": "code",
   "execution_count": 15,
   "metadata": {},
   "outputs": [
    {
     "name": "stdout",
     "output_type": "stream",
     "text": [
      "True\n",
      "True\n",
      "False\n",
      "False\n"
     ]
    }
   ],
   "source": [
    "import math\n",
    "\n",
    "def finding_prime(number):\n",
    "    num = abs(number)\n",
    "    if num < 4:\n",
    "        return True\n",
    "    for x in range(2, num):\n",
    "        if num % x == 0:\n",
    "            return False\n",
    "    return True\n",
    "\n",
    "def finding_prime_sqrt(number):\n",
    "    num = abs(number)\n",
    "    if num < 4:\n",
    "        return True\n",
    "    for x in range(2, int(math.sqrt(num)) + 1):\n",
    "        if num % x == 0:\n",
    "            return False\n",
    "    return True\n",
    "\n",
    "if __name__ == \"__main__\":\n",
    "    \n",
    "    number1 = 17\n",
    "    number2 = 54\n",
    "    \n",
    "    print(finding_prime(number1))\n",
    "    print(finding_prime_sqrt(number1))\n",
    "    print(finding_prime(number2))\n",
    "    print(finding_prime_sqrt(number2))"
   ]
  }
 ],
 "metadata": {
  "kernelspec": {
   "display_name": "Python 3",
   "language": "python",
   "name": "python3"
  },
  "language_info": {
   "codemirror_mode": {
    "name": "ipython",
    "version": 3
   },
   "file_extension": ".py",
   "mimetype": "text/x-python",
   "name": "python",
   "nbconvert_exporter": "python",
   "pygments_lexer": "ipython3",
   "version": "3.7.0"
  }
 },
 "nbformat": 4,
 "nbformat_minor": 4
}
