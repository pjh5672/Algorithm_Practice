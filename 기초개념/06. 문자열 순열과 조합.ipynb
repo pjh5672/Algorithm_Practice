{
 "cells": [
  {
   "cell_type": "code",
   "execution_count": 60,
   "metadata": {},
   "outputs": [],
   "source": [
    "import itertools\n",
    "\n",
    "# 재귀함수를 활용한 순열\n",
    "def perm(s):\n",
    "    if len(s) < 2:\n",
    "        return s\n",
    "    res = []\n",
    "    for i, c in enumerate(s):\n",
    "        for cc in perm(s[:i] + s[i+1:]):\n",
    "            res.append(c + cc)\n",
    "    return res\n",
    " \n",
    "# 입력 길이 n 이하의 모든 수에 대해 모든 순열의 경우\n",
    "def perm2(s):\n",
    "    if len(s) < 2:\n",
    "        return s\n",
    "    res = []\n",
    "    for i, c in enumerate(s):\n",
    "        res.append(c)\n",
    "        for cc in perm2(s[:i] + s[i+1:]):\n",
    "            res.append(c + cc)\n",
    "    return res\n",
    "\n",
    "# itertools 를 활용한 순열 구현\n",
    "def perm3(s):\n",
    "    res = itertools.permutations(s)\n",
    "    return [\"\".join(i) for i in res]"
   ]
  },
  {
   "cell_type": "code",
   "execution_count": 61,
   "metadata": {},
   "outputs": [
    {
     "name": "stdout",
     "output_type": "stream",
     "text": [
      "['012', '021', '102', '120', '201', '210']\n",
      "['0', '01', '012', '02', '021', '1', '10', '102', '12', '120', '2', '20', '201', '21', '210']\n",
      "['012', '021', '102', '120', '201', '210']\n"
     ]
    }
   ],
   "source": [
    "if __name__ == \"__main__\":\n",
    "    val = \"012\"\n",
    "    print(perm(val))\n",
    "    print(perm2(val))\n",
    "    print(perm3(val))"
   ]
  },
  {
   "cell_type": "code",
   "execution_count": 54,
   "metadata": {},
   "outputs": [],
   "source": [
    "# itertools 를 활용한 조합\n",
    "import itertools\n",
    "\n",
    "def comb(s, p):\n",
    "    res = itertools.combinations(s, p)\n",
    "    return [i for i in res]"
   ]
  },
  {
   "cell_type": "code",
   "execution_count": 55,
   "metadata": {},
   "outputs": [
    {
     "name": "stdout",
     "output_type": "stream",
     "text": [
      "[(0, 1, 2), (0, 1, 3), (0, 1, 4), (0, 2, 3), (0, 2, 4), (0, 3, 4), (1, 2, 3), (1, 2, 4), (1, 3, 4), (2, 3, 4)]\n"
     ]
    }
   ],
   "source": [
    "if __name__ == \"__main__\":\n",
    "    val = range(5)\n",
    "    print(comb(val, 3))"
   ]
  },
  {
   "cell_type": "code",
   "execution_count": null,
   "metadata": {},
   "outputs": [],
   "source": []
  }
 ],
 "metadata": {
  "kernelspec": {
   "display_name": "Python 3",
   "language": "python",
   "name": "python3"
  },
  "language_info": {
   "codemirror_mode": {
    "name": "ipython",
    "version": 3
   },
   "file_extension": ".py",
   "mimetype": "text/x-python",
   "name": "python",
   "nbconvert_exporter": "python",
   "pygments_lexer": "ipython3",
   "version": "3.7.0"
  }
 },
 "nbformat": 4,
 "nbformat_minor": 4
}
