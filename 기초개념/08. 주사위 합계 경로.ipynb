{
 "cells": [
  {
   "cell_type": "code",
   "execution_count": 4,
   "metadata": {},
   "outputs": [],
   "source": [
    "from collections import Counter, defaultdict\n",
    "\n",
    "def find_dice_probabilities(S, n_faces=6):\n",
    "    if S > 2 * n_faces or S < 2:\n",
    "        return None\n",
    "    \n",
    "    cdict = Counter()\n",
    "    ddict = defaultdict(list)\n",
    "    \n",
    "    for dice_1 in range(1, n_faces+1):\n",
    "        for dice_2 in range(1, n_faces+1):\n",
    "            t = [dice_1, dice_2]\n",
    "            cdict[dice_1+dice_2] += 1\n",
    "            ddict[dice_1+dice_2].append(t)\n",
    "        \n",
    "    return [cdict[S], ddict[S]]"
   ]
  },
  {
   "cell_type": "code",
   "execution_count": 5,
   "metadata": {},
   "outputs": [
    {
     "name": "stdout",
     "output_type": "stream",
     "text": [
      "[4, [[1, 4], [2, 3], [3, 2], [4, 1]]]\n"
     ]
    }
   ],
   "source": [
    "if __name__ == \"__main__\":\n",
    "    n_faces = 6\n",
    "    S = 5\n",
    "    results = find_dice_probabilities(S, n_faces)\n",
    "    print(results)"
   ]
  },
  {
   "cell_type": "code",
   "execution_count": null,
   "metadata": {},
   "outputs": [],
   "source": []
  }
 ],
 "metadata": {
  "kernelspec": {
   "display_name": "Python 3",
   "language": "python",
   "name": "python3"
  },
  "language_info": {
   "codemirror_mode": {
    "name": "ipython",
    "version": 3
   },
   "file_extension": ".py",
   "mimetype": "text/x-python",
   "name": "python",
   "nbconvert_exporter": "python",
   "pygments_lexer": "ipython3",
   "version": "3.7.0"
  }
 },
 "nbformat": 4,
 "nbformat_minor": 4
}
