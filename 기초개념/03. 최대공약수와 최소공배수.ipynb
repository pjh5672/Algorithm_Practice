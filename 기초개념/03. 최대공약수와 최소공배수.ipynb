{
 "cells": [
  {
   "cell_type": "code",
   "execution_count": 8,
   "metadata": {},
   "outputs": [
    {
     "name": "stdout",
     "output_type": "stream",
     "text": [
      "3\n",
      "3\n"
     ]
    }
   ],
   "source": [
    "# 두 정수의 최대공약수 계산\n",
    "def finding_gcd(a, b):\n",
    "    while(b != 0):\n",
    "        result = b\n",
    "        a, b = b, a % b\n",
    "    return result\n",
    "\n",
    "\n",
    "if __name__ == \"__main__\":\n",
    "    number1 = 21\n",
    "    number2 = 12\n",
    "    print(finding_gcd(number1, number2))\n",
    "    \n",
    "    # 내장함수 사용가능\n",
    "    from math import gcd\n",
    "    print(gcd(number1, number2))"
   ]
  },
  {
   "cell_type": "code",
   "execution_count": 9,
   "metadata": {},
   "outputs": [
    {
     "name": "stdout",
     "output_type": "stream",
     "text": [
      "84\n"
     ]
    }
   ],
   "source": [
    "# 두 정수의 최소공배수 계산\n",
    "def finding_lcm(a, b):\n",
    "    return a * b // finding_gcd(a, b)\n",
    "\n",
    "if __name__ == \"__main__\":\n",
    "    number1 = 21\n",
    "    number2 = 12\n",
    "    print(finding_lcm(number1, number2))"
   ]
  },
  {
   "cell_type": "code",
   "execution_count": 12,
   "metadata": {},
   "outputs": [],
   "source": [
    "# N개의 최소공배수 구하기\n",
    "def get_lcms(array):\n",
    "    while True:\n",
    "        array.append(finding_lcm(array.pop(), array.pop()))\n",
    "        if len(array) == 1:\n",
    "            return array[0]"
   ]
  },
  {
   "cell_type": "code",
   "execution_count": 13,
   "metadata": {},
   "outputs": [
    {
     "name": "stdout",
     "output_type": "stream",
     "text": [
      "168\n"
     ]
    }
   ],
   "source": [
    "if __name__ == \"__main__\":\n",
    "    array = [2, 6, 8, 14] \n",
    "    print(get_lcms(array))"
   ]
  },
  {
   "cell_type": "code",
   "execution_count": null,
   "metadata": {},
   "outputs": [],
   "source": []
  }
 ],
 "metadata": {
  "kernelspec": {
   "display_name": "Python 3",
   "language": "python",
   "name": "python3"
  },
  "language_info": {
   "codemirror_mode": {
    "name": "ipython",
    "version": 3
   },
   "file_extension": ".py",
   "mimetype": "text/x-python",
   "name": "python",
   "nbconvert_exporter": "python",
   "pygments_lexer": "ipython3",
   "version": "3.7.0"
  }
 },
 "nbformat": 4,
 "nbformat_minor": 4
}
