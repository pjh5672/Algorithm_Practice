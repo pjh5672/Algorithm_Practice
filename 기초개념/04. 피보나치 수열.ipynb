{
 "cells": [
  {
   "cell_type": "code",
   "execution_count": 11,
   "metadata": {},
   "outputs": [
    {
     "name": "stdout",
     "output_type": "stream",
     "text": [
      "1 1 2 3 5 8 13 21 34 55 "
     ]
    }
   ],
   "source": [
    "import math\n",
    "\n",
    "# 단순반복문을 사용해서 구현\n",
    "def find_fibonacci_seq_iter(n):\n",
    "    if n < 2:\n",
    "        return n\n",
    "    a, b = 0, 1\n",
    "    for i in range(n):\n",
    "        a, b = b, a+b\n",
    "    return a\n",
    "\n",
    "if __name__ == \"__main__\":\n",
    "    n = 10\n",
    "    for i in range(1, n+1):\n",
    "        print(find_fibonacci_seq_iter(i), end=\" \")"
   ]
  },
  {
   "cell_type": "code",
   "execution_count": 14,
   "metadata": {},
   "outputs": [
    {
     "name": "stdout",
     "output_type": "stream",
     "text": [
      "1 1 2 3 5 8 13 21 34 55 "
     ]
    }
   ],
   "source": [
    "# 재귀함수 사용해서 구현\n",
    "def find_fibonacci_seq_rec(n):\n",
    "    if n < 2:\n",
    "        return n\n",
    "    return find_fibonacci_seq_rec(n-1) + find_fibonacci_seq_rec(n-2)\n",
    "\n",
    "if __name__ == \"__main__\":\n",
    "    n = 10\n",
    "    for i in range(1, n+1):\n",
    "        print(find_fibonacci_seq_rec(i), end=\" \")"
   ]
  },
  {
   "cell_type": "code",
   "execution_count": 13,
   "metadata": {},
   "outputs": [
    {
     "name": "stdout",
     "output_type": "stream",
     "text": [
      "1 1 2 3 5 8 13 21 34 55 "
     ]
    }
   ],
   "source": [
    "# 제너레이터(generator)를 사용해서 구현\n",
    "def fibonacci_generator():\n",
    "    a, b = 0, 1\n",
    "    while True:\n",
    "        yield b\n",
    "        a, b = b, a+b\n",
    "        \n",
    "if __name__ == \"__main__\":\n",
    "    gen = fibonacci_generator()\n",
    "    n = 10\n",
    "    for _ in range(n):\n",
    "        print(next(gen), end=\" \")"
   ]
  }
 ],
 "metadata": {
  "kernelspec": {
   "display_name": "Python 3",
   "language": "python",
   "name": "python3"
  },
  "language_info": {
   "codemirror_mode": {
    "name": "ipython",
    "version": 3
   },
   "file_extension": ".py",
   "mimetype": "text/x-python",
   "name": "python",
   "nbconvert_exporter": "python",
   "pygments_lexer": "ipython3",
   "version": "3.7.0"
  }
 },
 "nbformat": 4,
 "nbformat_minor": 4
}
