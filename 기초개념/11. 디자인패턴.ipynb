{
 "cells": [
  {
   "cell_type": "markdown",
   "metadata": {},
   "source": [
    "# 데커레이터 패턴"
   ]
  },
  {
   "cell_type": "code",
   "execution_count": 49,
   "metadata": {},
   "outputs": [
    {
     "name": "stdout",
     "output_type": "stream",
     "text": [
      "func name: random_tree, elapsed time: 0.00012440 sec\n"
     ]
    }
   ],
   "source": [
    "import random\n",
    "import time\n",
    "\n",
    "def benchmark(func):\n",
    "    def wrapper(*args, **kwargs):\n",
    "        tic = time.perf_counter()\n",
    "        res = func(*args, **kwargs)\n",
    "        print(\"func name: {0}, elapsed time: {1:.8f} sec\".format(func.__name__, time.perf_counter()-tic))\n",
    "        return res\n",
    "    return wrapper\n",
    "\n",
    "@benchmark\n",
    "def random_tree(n):\n",
    "    temp = [n for n in range(n)]\n",
    "    for i in range(n+1):\n",
    "        temp[random.choice(temp)] = random.choice(temp)\n",
    "    return temp\n",
    "\n",
    "\n",
    "if __name__ == \"__main__\":\n",
    "    random_tree(100)"
   ]
  },
  {
   "cell_type": "code",
   "execution_count": 50,
   "metadata": {},
   "outputs": [
    {
     "name": "stdout",
     "output_type": "stream",
     "text": [
      "object_foo(<__main__.A object at 0x0000022DEACA7DD8>, 1) 실행\n",
      "class_foo(<class '__main__.A'>, 2) 실행: True\n",
      "class_foo(<class '__main__.A'>, 2) 실행: True\n",
      "static_foo(3) 실행\n",
      "static_foo(3) 실행\n"
     ]
    }
   ],
   "source": [
    "class A(object):\n",
    "    _hello = True\n",
    "    \n",
    "    def foo(self, x):\n",
    "        print(\"object_foo({0}, {1}) 실행\".format(self, x))\n",
    "    \n",
    "    @classmethod\n",
    "    def class_foo(cls, x):\n",
    "        print(\"class_foo({0}, {1}) 실행: {2}\".format(cls, x, cls._hello))\n",
    "        \n",
    "    @staticmethod\n",
    "    def static_foo(x):\n",
    "        print(\"static_foo({0}) 실행\".format(x))\n",
    "        \n",
    "if __name__ == \"__main__\":\n",
    "    a = A()\n",
    "    a.foo(1)\n",
    "    a.class_foo(2)\n",
    "    A.class_foo(2)\n",
    "    a.static_foo(3)\n",
    "    A.static_foo(3)"
   ]
  },
  {
   "cell_type": "markdown",
   "metadata": {},
   "source": [
    "# 옵서버 패턴"
   ]
  },
  {
   "cell_type": "code",
   "execution_count": 31,
   "metadata": {},
   "outputs": [],
   "source": [
    "class C:\n",
    "    def __init__(self, name):\n",
    "        self._name = name\n",
    "    \n",
    "    @property\n",
    "    def name(self):\n",
    "        return self._name\n",
    "    \n",
    "    @name.setter\n",
    "    def name(self, new_name):\n",
    "        self._name = new_name"
   ]
  },
  {
   "cell_type": "code",
   "execution_count": 36,
   "metadata": {},
   "outputs": [
    {
     "name": "stdout",
     "output_type": "stream",
     "text": [
      "john\n",
      "doe\n"
     ]
    }
   ],
   "source": [
    "if __name__ == \"__main__\":\n",
    "    c = C(\"john\")\n",
    "    print(c.name)\n",
    "    c.name = \"doe\"\n",
    "    print(c.name)"
   ]
  },
  {
   "cell_type": "code",
   "execution_count": 51,
   "metadata": {},
   "outputs": [],
   "source": [
    "class Subscriber(object):\n",
    "    def __init__(self, name):\n",
    "        self.name = name\n",
    "    \n",
    "    def update(self, message):\n",
    "        print(\"{0}, {1}\".format(self.name, message))\n",
    "        \n",
    "class Publisher(object):\n",
    "    def __init__(self):\n",
    "        self.subscribers = set()\n",
    "    \n",
    "    def register(self, who):\n",
    "        self.subscribers.add(who)\n",
    "        \n",
    "    def unregister(self, who):\n",
    "        self.subscribers.discard(who)\n",
    "    \n",
    "    def dispatch(self, message):\n",
    "        for subscriber in self.subscribers:\n",
    "            subscriber.update(message)"
   ]
  },
  {
   "cell_type": "code",
   "execution_count": 53,
   "metadata": {},
   "outputs": [
    {
     "name": "stdout",
     "output_type": "stream",
     "text": [
      "lee, good morning.\n",
      "park, good morning.\n",
      "kim, good morning.\n",
      "park, good evening.\n",
      "kim, good evening.\n"
     ]
    }
   ],
   "source": [
    "if __name__ == \"__main__\":\n",
    "    pub = Publisher()\n",
    "    \n",
    "    kim = Subscriber(\"kim\")\n",
    "    park = Subscriber(\"park\")\n",
    "    lee = Subscriber(\"lee\")\n",
    "    \n",
    "    pub.register(kim)\n",
    "    pub.register(park)\n",
    "    pub.register(lee)\n",
    "    \n",
    "    pub.dispatch(\"good morning.\")\n",
    "    pub.unregister(lee)\n",
    "    pub.dispatch(\"good evening.\")"
   ]
  },
  {
   "cell_type": "markdown",
   "metadata": {},
   "source": [
    "# 싱글턴 패턴"
   ]
  },
  {
   "cell_type": "code",
   "execution_count": 19,
   "metadata": {},
   "outputs": [],
   "source": [
    "class D:\n",
    "    _hello = None\n",
    "    \n",
    "    def __new__(self, *args, **kwargs):\n",
    "        if not self._hello:\n",
    "            self._hello = super(D, self).__new__(self, *args, **kwargs)\n",
    "        return self._hello"
   ]
  },
  {
   "cell_type": "code",
   "execution_count": 25,
   "metadata": {},
   "outputs": [
    {
     "name": "stdout",
     "output_type": "stream",
     "text": [
      "<__main__.D object at 0x0000022DEAA181D0>\n",
      "<__main__.D object at 0x0000022DEAA181D0>\n",
      "True\n"
     ]
    }
   ],
   "source": [
    "if __name__ == \"__main__\":\n",
    "    x = D()\n",
    "    y = D()\n",
    "    print(x)\n",
    "    print(y)\n",
    "    print(x==y)"
   ]
  }
 ],
 "metadata": {
  "kernelspec": {
   "display_name": "Python 3",
   "language": "python",
   "name": "python3"
  },
  "language_info": {
   "codemirror_mode": {
    "name": "ipython",
    "version": 3
   },
   "file_extension": ".py",
   "mimetype": "text/x-python",
   "name": "python",
   "nbconvert_exporter": "python",
   "pygments_lexer": "ipython3",
   "version": "3.7.0"
  }
 },
 "nbformat": 4,
 "nbformat_minor": 4
}
