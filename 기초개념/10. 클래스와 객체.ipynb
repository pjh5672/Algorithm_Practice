{
 "cells": [
  {
   "cell_type": "code",
   "execution_count": 9,
   "metadata": {},
   "outputs": [],
   "source": [
    "# 클래스 정의\n",
    "class Class():\n",
    "    def __init__(self):\n",
    "        \n",
    "        self.data_1 = \"hello\"\n",
    "        self.data_2 = \"world\"\n",
    "    \n",
    "    def say(self):\n",
    "        print(self.data_1+ \" \"+self.data_2)"
   ]
  },
  {
   "cell_type": "code",
   "execution_count": 12,
   "metadata": {},
   "outputs": [
    {
     "name": "stdout",
     "output_type": "stream",
     "text": [
      "<__main__.Class object at 0x000001400EBEBE48>\n",
      "hello world\n"
     ]
    }
   ],
   "source": [
    "x = Class() # 클래스 타입의 인스턴스 생성\n",
    "print(x)\n",
    "x.say() # 내부 메서드 수행"
   ]
  }
 ],
 "metadata": {
  "kernelspec": {
   "display_name": "Python 3",
   "language": "python",
   "name": "python3"
  },
  "language_info": {
   "codemirror_mode": {
    "name": "ipython",
    "version": 3
   },
   "file_extension": ".py",
   "mimetype": "text/x-python",
   "name": "python",
   "nbconvert_exporter": "python",
   "pygments_lexer": "ipython3",
   "version": "3.7.0"
  }
 },
 "nbformat": 4,
 "nbformat_minor": 4
}
