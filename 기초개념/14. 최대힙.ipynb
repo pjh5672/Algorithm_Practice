{
 "cells": [
  {
   "cell_type": "code",
   "execution_count": 12,
   "metadata": {},
   "outputs": [
    {
     "name": "stdout",
     "output_type": "stream",
     "text": [
      "[4, 6, 8, 1]\n",
      "[1, 4, 8, 6]\n",
      "[1, 2, 8, 6, 4]\n",
      "1\n",
      "[2, 4, 8, 6]\n"
     ]
    }
   ],
   "source": [
    "import heapq\n",
    "\n",
    "list1 = [4, 6, 8, 1]\n",
    "\n",
    "print(list1)\n",
    "heapq.heapify(list1)\n",
    "print(list1)\n",
    "heapq.heappush(list1, 2)\n",
    "print(list1)\n",
    "print(heapq.heappop(list1))\n",
    "print(list1)"
   ]
  },
  {
   "cell_type": "code",
   "execution_count": 63,
   "metadata": {},
   "outputs": [],
   "source": [
    "class Heapify(object):\n",
    "    def __init__(self, data=None):\n",
    "        self.data = data or []\n",
    "        for i in range(len(data)//2, -1, -1):\n",
    "            self.__max_heapify__(i)\n",
    "    \n",
    "    def __repr__(self):\n",
    "        return repr(self.data)\n",
    "    \n",
    "    def parent(self, i):\n",
    "        if i & 1:\n",
    "            return i >> 1\n",
    "        else:\n",
    "            return (i >> 1) - 1\n",
    "    \n",
    "    def left_child(self, i):\n",
    "        return (i << 1) + 1\n",
    "    \n",
    "    def right_child(self, i):\n",
    "        return (i << 1) + 2\n",
    "    \n",
    "    def __max_heapify__(self, i):\n",
    "        largest = i \n",
    "        left = self.left_child(i)\n",
    "        right = self.right_child(i)\n",
    "        n = len(self.data)\n",
    "        \n",
    "        largest = (left < n and self.data[left] > self.data[i]) and left or i\n",
    "        largest = (right < n and self.data[right] > self.data[largest]) and right or largest\n",
    "        \n",
    "        if i is not largest:\n",
    "            self.data[i], self.data[largest] = self.data[largest], self.data[i]\n",
    "            print(self.data)\n",
    "            self.__max_heapify__(largest)\n",
    "        \n",
    "    def extract_max(self):\n",
    "        n = len(self.data)\n",
    "        max_element = self.data[0]\n",
    "        \n",
    "        self.data[0] = self.data[n-1]\n",
    "        self.data = self.data[:n-1]\n",
    "        self.__max_heapify__(0)\n",
    "        return max_element\n",
    "    \n",
    "    def insert(self, item):\n",
    "        i = len(self.data)\n",
    "        self.data.append(item)\n",
    "        while (i != 0) and item > self.data[self.parent(i)]:\n",
    "            print(self.data)\n",
    "            self.data[i] = self.data[self.parent(i)]\n",
    "            i = self.parent(i)\n",
    "        self.data[i] = item "
   ]
  },
  {
   "cell_type": "code",
   "execution_count": 64,
   "metadata": {},
   "outputs": [
    {
     "name": "stdout",
     "output_type": "stream",
     "text": [
      "[3, 2, 8, 1, 7, 5, 2]\n",
      "[3, 7, 8, 1, 2, 5, 2]\n",
      "[8, 7, 3, 1, 2, 5, 2]\n",
      "[8, 7, 5, 1, 2, 3, 2]\n",
      "[7, 2, 5, 1, 2, 3]\n",
      "8\n"
     ]
    }
   ],
   "source": [
    "if __name__ == \"__main__\":\n",
    "    test = [3, 2, 5, 1, 7, 8, 2]\n",
    "    h = Heapify(test)\n",
    "    print(h.extract_max())"
   ]
  }
 ],
 "metadata": {
  "kernelspec": {
   "display_name": "Python 3",
   "language": "python",
   "name": "python3"
  },
  "language_info": {
   "codemirror_mode": {
    "name": "ipython",
    "version": 3
   },
   "file_extension": ".py",
   "mimetype": "text/x-python",
   "name": "python",
   "nbconvert_exporter": "python",
   "pygments_lexer": "ipython3",
   "version": "3.7.9"
  }
 },
 "nbformat": 4,
 "nbformat_minor": 4
}
