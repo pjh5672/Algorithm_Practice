{
 "cells": [
  {
   "cell_type": "markdown",
   "id": "fifth-relations",
   "metadata": {},
   "source": [
    "### 선형 검색 알고리즘"
   ]
  },
  {
   "cell_type": "code",
   "execution_count": 2,
   "id": "saving-peoples",
   "metadata": {},
   "outputs": [],
   "source": [
    "from typing import Any, Sequence\n",
    "\n",
    "def seq_search(a: Sequence, key: Any) -> int:\n",
    "    i = 0\n",
    "    \n",
    "    while True:\n",
    "        if i == len(a):\n",
    "            return -1\n",
    "        if a[i] == key:\n",
    "            return i\n",
    "        i += 1"
   ]
  },
  {
   "cell_type": "code",
   "execution_count": 7,
   "id": "incomplete-memorabilia",
   "metadata": {},
   "outputs": [
    {
     "name": "stdout",
     "output_type": "stream",
     "text": [
      "검색값은 x[3]에 존재함\n"
     ]
    }
   ],
   "source": [
    "x = [1, 2, 7, 4, 3, 9]\n",
    "ky = 4\n",
    "idx = seq_search(x, ky)\n",
    "print(f\"검색값은 x[{idx}]에 존재함\")"
   ]
  },
  {
   "cell_type": "markdown",
   "id": "interracial-attendance",
   "metadata": {},
   "source": [
    "### 보초법"
   ]
  },
  {
   "cell_type": "code",
   "execution_count": 4,
   "id": "quiet-daily",
   "metadata": {},
   "outputs": [],
   "source": [
    "from typing import Any, Sequence\n",
    "import copy\n",
    "\n",
    "def seq_search(seq: Sequence, key: Any) -> int:\n",
    "    a = copy.deepcopy(seq)\n",
    "    a.append(key)\n",
    "    \n",
    "    i = 0\n",
    "    while True:\n",
    "        if a[i] == key:\n",
    "            break\n",
    "        i += 1\n",
    "    return -1 if i == len(seq) else i"
   ]
  },
  {
   "cell_type": "code",
   "execution_count": 6,
   "id": "ranging-dragon",
   "metadata": {},
   "outputs": [
    {
     "name": "stdout",
     "output_type": "stream",
     "text": [
      "검색값은 x[3]에 존재함\n"
     ]
    }
   ],
   "source": [
    "x = [1, 2, 7, 4, 3, 9]\n",
    "ky = 4\n",
    "idx = seq_search(x, ky)\n",
    "print(f\"검색값은 x[{idx}]에 존재함\")"
   ]
  },
  {
   "cell_type": "markdown",
   "id": "purple-fisher",
   "metadata": {},
   "source": [
    "### 이진 검색"
   ]
  },
  {
   "cell_type": "code",
   "execution_count": 8,
   "id": "satisfactory-cleaners",
   "metadata": {},
   "outputs": [],
   "source": [
    "from typing import Any, Sequence\n",
    "\n",
    "def bin_search(a: Sequence, key: Any) -> int:\n",
    "    pl = 0\n",
    "    pr = len(a) - 1\n",
    "    \n",
    "    while True:\n",
    "        pc = (pl + pr) // 2\n",
    "        if a[pc] == key:\n",
    "            return pc\n",
    "        elif a[pc] < key:\n",
    "            pl = pc + 1\n",
    "        else:\n",
    "            pr = pc - 1\n",
    "        \n",
    "        if pl > pr:\n",
    "            break\n",
    "    return -1"
   ]
  },
  {
   "cell_type": "code",
   "execution_count": 19,
   "id": "conceptual-communications",
   "metadata": {},
   "outputs": [
    {
     "name": "stdout",
     "output_type": "stream",
     "text": [
      "검색값은 x[3]에 존재함\n"
     ]
    }
   ],
   "source": [
    "x = [1, 2, 7, 4, 3, 9, 8]\n",
    "ky = 4\n",
    "idx = bin_search(x, ky)\n",
    "print(f\"검색값은 x[{idx}]에 존재함\")"
   ]
  },
  {
   "cell_type": "markdown",
   "id": "monetary-locator",
   "metadata": {},
   "source": [
    "### 체인법으로 해시 함수 구현"
   ]
  },
  {
   "cell_type": "code",
   "execution_count": 16,
   "id": "stunning-climate",
   "metadata": {},
   "outputs": [],
   "source": [
    "from __future__ import annotations\n",
    "from typing import Any, Type\n",
    "import hashlib\n",
    "\n",
    "class Node:\n",
    "    def __init__(self, key: Any, value: Any, next: Node) -> None:\n",
    "        self.key = key\n",
    "        self.value = value\n",
    "        self.next = next\n",
    "        \n",
    "class ChainedHash:\n",
    "    def __init__(self, capacity: int) -> None:\n",
    "        self.capacity = capacity\n",
    "        self.table = [None] * self.capacity\n",
    "        \n",
    "    def hash_value(self, key: Any) -> int:\n",
    "        if isinstance(key, int):\n",
    "            return key % self.capacity\n",
    "        return (int(hashlib.sha256(str(key).encode()).hexdigest(), 16) % self.capacity)\n",
    "    \n",
    "    def search(self, key: Any) -> Any:\n",
    "        hash = self.hash_value(key)\n",
    "        p = self.table[hash]\n",
    "        \n",
    "        while p is not None:\n",
    "            if p.key == key:\n",
    "                return p.value\n",
    "            p = p.next\n",
    "        return None\n",
    "    \n",
    "    def add(self, key: Any, value: Any) -> bool:\n",
    "        hash = self.hash_value(key)\n",
    "        p = self.table[hash]\n",
    "        \n",
    "        while p is not None:\n",
    "            if p.key == key:\n",
    "                return False\n",
    "            p = p.next\n",
    "        \n",
    "        temp = Node(key, value, self.table[hash])\n",
    "        self.table[hash] = temp\n",
    "        return True\n",
    "    \n",
    "    def remove(self, key: Any) -> bool:\n",
    "        hash = self.hash_value(key)\n",
    "        p = self.table[hash]\n",
    "        pp = None\n",
    "        \n",
    "        while p is not None:\n",
    "            if p.key == key:\n",
    "                if pp is None:\n",
    "                    self.table[hash] = p.next\n",
    "                else:\n",
    "                    pp.next = p.next\n",
    "                return True\n",
    "            pp = p\n",
    "            p = p.next\n",
    "        return False\n",
    "    \n",
    "    def dump(self) -> None:\n",
    "        for i in range(self.capacity):\n",
    "            p = self.table[i]\n",
    "            print(i, end='')\n",
    "            while p is not None:\n",
    "                print(f\" -> {p.key} ({p.value})\", end='')\n",
    "                p = p.next\n",
    "            print()"
   ]
  },
  {
   "cell_type": "code",
   "execution_count": 36,
   "id": "passive-symbol",
   "metadata": {},
   "outputs": [
    {
     "name": "stdout",
     "output_type": "stream",
     "text": [
      "(1) 추가  (2) 삭제  (3) 검색  (4) 덤프  (5) 종료: 1\n",
      "추가할 키를 입력하세요.: 1\n",
      "추가할 값을 입력하세요.: 수연\n",
      "(1) 추가  (2) 삭제  (3) 검색  (4) 덤프  (5) 종료: 1\n",
      "추가할 키를 입력하세요.: 5\n",
      "추가할 값을 입력하세요.: 동혁\n",
      "(1) 추가  (2) 삭제  (3) 검색  (4) 덤프  (5) 종료: 1\n",
      "추가할 키를 입력하세요.: 10\n",
      "추가할 값을 입력하세요.: 예지\n",
      "(1) 추가  (2) 삭제  (3) 검색  (4) 덤프  (5) 종료: 1\n",
      "추가할 키를 입력하세요.: 12\n",
      "추가할 값을 입력하세요.: 원준\n",
      "(1) 추가  (2) 삭제  (3) 검색  (4) 덤프  (5) 종료: 1\n",
      "추가할 키를 입력하세요.: 14\n",
      "추가할 값을 입력하세요.: 민서\n",
      "(1) 추가  (2) 삭제  (3) 검색  (4) 덤프  (5) 종료: 3\n",
      "검색할 키를 입력하세요.: 5\n",
      "검색한 키를 갖는 값은 동혁입니다.\n",
      "(1) 추가  (2) 삭제  (3) 검색  (4) 덤프  (5) 종료: 4\n",
      "0\n",
      "1 -> 14 (민서) -> 1 (수연)\n",
      "2\n",
      "3\n",
      "4\n",
      "5 -> 5 (동혁)\n",
      "6\n",
      "7\n",
      "8\n",
      "9\n",
      "10 -> 10 (예지)\n",
      "11\n",
      "12 -> 12 (원준)\n",
      "(1) 추가  (2) 삭제  (3) 검색  (4) 덤프  (5) 종료: 2\n",
      "삭제할 키를 입력하세요.: 14\n",
      "(1) 추가  (2) 삭제  (3) 검색  (4) 덤프  (5) 종료: 4\n",
      "0\n",
      "1 -> 1 (수연)\n",
      "2\n",
      "3\n",
      "4\n",
      "5 -> 5 (동혁)\n",
      "6\n",
      "7\n",
      "8\n",
      "9\n",
      "10 -> 10 (예지)\n",
      "11\n",
      "12 -> 12 (원준)\n",
      "(1) 추가  (2) 삭제  (3) 검색  (4) 덤프  (5) 종료: 5\n"
     ]
    }
   ],
   "source": [
    "from enum import Enum\n",
    "\n",
    "Menu = Enum('Menu', ['추가', '삭제', '검색', '덤프', '종료'])\n",
    "\n",
    "def select_menu() -> Menu:\n",
    "    s = [f\"({m.value}) {m.name}\" for m in Menu]\n",
    "    while True:\n",
    "        print(*s, sep = '  ', end='')\n",
    "        n = int(input(': '))\n",
    "        if 1 <= n <= len(Menu):\n",
    "            return Menu(n)\n",
    "        \n",
    "hash = ChainedHash(13)\n",
    "\n",
    "while True:\n",
    "    menu = select_menu()\n",
    "    \n",
    "    if menu == Menu.추가:\n",
    "        key = int(input('추가할 키를 입력하세요.: '))\n",
    "        val = input('추가할 값을 입력하세요.: ')\n",
    "        if not hash.add(key, val):\n",
    "            print('추가를 실패했습니다.')\n",
    "        \n",
    "    elif menu == Menu.삭제:\n",
    "        key = int(input('삭제할 키를 입력하세요.: '))\n",
    "        if not hash.remove(key):\n",
    "            print('삭제를 실패했습니다.')\n",
    "    \n",
    "    elif menu == Menu.검색:\n",
    "        key = int(input('검색할 키를 입력하세요.: '))\n",
    "        t = hash.search(key)\n",
    "        if t is not None:\n",
    "            print(f\"검색한 키를 갖는 값은 {t}입니다.\")\n",
    "        else:\n",
    "            print('검색할 데이터가 없습니다.')\n",
    "            \n",
    "    elif menu == Menu.덤프:\n",
    "        hash.dump()\n",
    "        \n",
    "    else:\n",
    "        break"
   ]
  },
  {
   "cell_type": "code",
   "execution_count": null,
   "id": "floating-niger",
   "metadata": {},
   "outputs": [],
   "source": []
  }
 ],
 "metadata": {
  "kernelspec": {
   "display_name": "Python 3",
   "language": "python",
   "name": "python3"
  },
  "language_info": {
   "codemirror_mode": {
    "name": "ipython",
    "version": 3
   },
   "file_extension": ".py",
   "mimetype": "text/x-python",
   "name": "python",
   "nbconvert_exporter": "python",
   "pygments_lexer": "ipython3",
   "version": "3.8.7"
  }
 },
 "nbformat": 4,
 "nbformat_minor": 5
}
