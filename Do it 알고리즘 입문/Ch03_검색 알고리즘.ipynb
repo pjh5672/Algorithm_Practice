{
 "cells": [
  {
   "cell_type": "markdown",
   "id": "fifth-relations",
   "metadata": {},
   "source": [
    "### 선형 검색 알고리즘"
   ]
  },
  {
   "cell_type": "code",
   "execution_count": 2,
   "id": "saving-peoples",
   "metadata": {},
   "outputs": [],
   "source": [
    "from typing import Any, Sequence\n",
    "\n",
    "def seq_search(a: Sequence, key: Any) -> int:\n",
    "    i = 0\n",
    "    \n",
    "    while True:\n",
    "        if i == len(a):\n",
    "            return -1\n",
    "        if a[i] == key:\n",
    "            return i\n",
    "        i += 1"
   ]
  },
  {
   "cell_type": "code",
   "execution_count": 7,
   "id": "incomplete-memorabilia",
   "metadata": {},
   "outputs": [
    {
     "name": "stdout",
     "output_type": "stream",
     "text": [
      "검색값은 x[3]에 존재함\n"
     ]
    }
   ],
   "source": [
    "x = [1, 2, 7, 4, 3, 9]\n",
    "ky = 4\n",
    "idx = seq_search(x, ky)\n",
    "print(f\"검색값은 x[{idx}]에 존재함\")"
   ]
  },
  {
   "cell_type": "markdown",
   "id": "interracial-attendance",
   "metadata": {},
   "source": [
    "### 보초법"
   ]
  },
  {
   "cell_type": "code",
   "execution_count": 4,
   "id": "quiet-daily",
   "metadata": {},
   "outputs": [],
   "source": [
    "from typing import Any, Sequence\n",
    "import copy\n",
    "\n",
    "def seq_search(seq: Sequence, key: Any) -> int:\n",
    "    a = copy.deepcopy(seq)\n",
    "    a.append(key)\n",
    "    \n",
    "    i = 0\n",
    "    while True:\n",
    "        if a[i] == key:\n",
    "            break\n",
    "        i += 1\n",
    "    return -1 if i == len(seq) else i"
   ]
  },
  {
   "cell_type": "code",
   "execution_count": 6,
   "id": "ranging-dragon",
   "metadata": {},
   "outputs": [
    {
     "name": "stdout",
     "output_type": "stream",
     "text": [
      "검색값은 x[3]에 존재함\n"
     ]
    }
   ],
   "source": [
    "x = [1, 2, 7, 4, 3, 9]\n",
    "ky = 4\n",
    "idx = seq_search(x, ky)\n",
    "print(f\"검색값은 x[{idx}]에 존재함\")"
   ]
  },
  {
   "cell_type": "markdown",
   "id": "purple-fisher",
   "metadata": {},
   "source": [
    "### 이진 검색"
   ]
  },
  {
   "cell_type": "code",
   "execution_count": 8,
   "id": "satisfactory-cleaners",
   "metadata": {},
   "outputs": [],
   "source": [
    "from typing import Any, Sequence\n",
    "\n",
    "def bin_search(a: Sequence, key: Any) -> int:\n",
    "    pl = 0\n",
    "    pr = len(a) - 1\n",
    "    \n",
    "    while True:\n",
    "        pc = (pl + pr) // 2\n",
    "        if a[pc] == key:\n",
    "            return pc\n",
    "        elif a[pc] < key:\n",
    "            pl = pc + 1\n",
    "        else:\n",
    "            pr = pc - 1\n",
    "        \n",
    "        if pl > pr:\n",
    "            break\n",
    "    return -1"
   ]
  },
  {
   "cell_type": "code",
   "execution_count": 19,
   "id": "conceptual-communications",
   "metadata": {},
   "outputs": [
    {
     "name": "stdout",
     "output_type": "stream",
     "text": [
      "검색값은 x[3]에 존재함\n"
     ]
    }
   ],
   "source": [
    "x = [1, 2, 7, 4, 3, 9, 8]\n",
    "ky = 4\n",
    "idx = bin_search(x, ky)\n",
    "print(f\"검색값은 x[{idx}]에 존재함\")"
   ]
  },
  {
   "cell_type": "markdown",
   "id": "monetary-locator",
   "metadata": {},
   "source": [
    "### 체인법으로 해시 함수 구현"
   ]
  },
  {
   "cell_type": "code",
   "execution_count": null,
   "id": "stunning-climate",
   "metadata": {},
   "outputs": [],
   "source": [
    "from __future__ import annotations\n",
    "from typing import Any, Type\n",
    "import hashlib\n",
    "\n",
    "class Node:\n",
    "    def __init__(self, key: Any, value: Any, next: Node) -> None:\n",
    "        self.key = key\n",
    "        self.value = value\n",
    "        self.next = next\n",
    "        \n",
    "class ChainedHash:\n",
    "    def __init__(self, capacity: int) -> None:\n",
    "        self.capacity = capacity\n",
    "        self.table = [None] * self.capacity\n",
    "        \n",
    "    def hash_value(self, key: Any) -> int:\n",
    "        if isinstance(key, int):\n",
    "            return key % self.capacity\n",
    "        return (int(hashlib.sha256(str(key).encode()).hexdigest(), 16) % self.capacity)\n",
    "    "
   ]
  }
 ],
 "metadata": {
  "kernelspec": {
   "display_name": "Python 3",
   "language": "python",
   "name": "python3"
  },
  "language_info": {
   "codemirror_mode": {
    "name": "ipython",
    "version": 3
   },
   "file_extension": ".py",
   "mimetype": "text/x-python",
   "name": "python",
   "nbconvert_exporter": "python",
   "pygments_lexer": "ipython3",
   "version": "3.8.7"
  }
 },
 "nbformat": 4,
 "nbformat_minor": 5
}
