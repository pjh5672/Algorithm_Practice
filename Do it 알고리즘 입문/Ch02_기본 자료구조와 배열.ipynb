{
 "cells": [
  {
   "cell_type": "markdown",
   "id": "listed-cameroon",
   "metadata": {},
   "source": [
    "### 배열 원소의 최댓값 구하는 함수 구현"
   ]
  },
  {
   "cell_type": "code",
   "execution_count": 3,
   "id": "upper-rouge",
   "metadata": {},
   "outputs": [],
   "source": [
    "from typing import Any, Sequence\n",
    "\n",
    "def max_of(a: Sequence) -> Any:\n",
    "    maximum = a[0]\n",
    "    for i in range(1, len(a)):\n",
    "        if a[i] > maximum:\n",
    "            maximum = a[i]\n",
    "    return maximum"
   ]
  },
  {
   "cell_type": "code",
   "execution_count": 8,
   "id": "worse-organizer",
   "metadata": {},
   "outputs": [
    {
     "name": "stdout",
     "output_type": "stream",
     "text": [
      "원소의 수 입력: 5\n",
      "x[0]값을 입력: 100\n",
      "x[1]값을 입력: 180\n",
      "x[2]값을 입력: 200\n",
      "x[3]값을 입력: 150\n",
      "x[4]값을 입력: 120\n",
      "최댓값은 200\n"
     ]
    }
   ],
   "source": [
    "num = int(input('원소의 수 입력: '))\n",
    "x = [None] * num\n",
    "\n",
    "for i in range(num):\n",
    "    x[i] = int(input(f\"x[{i}]값을 입력: \"))\n",
    "\n",
    "print(f\"최댓값은 {max_of(x)}\")"
   ]
  },
  {
   "cell_type": "markdown",
   "id": "exclusive-despite",
   "metadata": {},
   "source": [
    "### 배열 원소를 역순으로 정렬"
   ]
  },
  {
   "cell_type": "code",
   "execution_count": 9,
   "id": "aging-stupid",
   "metadata": {},
   "outputs": [],
   "source": [
    "from typing import Any, MutableSequence\n",
    "\n",
    "def reverse_array(a: MutableSequence) -> None:\n",
    "    n = len(a)\n",
    "    for i in range(n//2):\n",
    "        a[i], a[n-i-1] = a[n-i-1], a[i]"
   ]
  },
  {
   "cell_type": "code",
   "execution_count": 10,
   "id": "checked-sussex",
   "metadata": {},
   "outputs": [
    {
     "name": "stdout",
     "output_type": "stream",
     "text": [
      "원소의 수 입력: 7\n",
      "x[0]값을 입력: 2\n",
      "x[1]값을 입력: 5\n",
      "x[2]값을 입력: 1\n",
      "x[3]값을 입력: 3\n",
      "x[4]값을 입력: 9\n",
      "x[5]값을 입력: 6\n",
      "x[6]값을 입력: 7\n",
      "배열원소: [2, 5, 1, 3, 9, 6, 7]\n",
      "역순정렬 후 배열원소: [7, 6, 9, 3, 1, 5, 2]\n"
     ]
    }
   ],
   "source": [
    "num = int(input('원소의 수 입력: '))\n",
    "x = [None] * num\n",
    "\n",
    "for i in range(num):\n",
    "    x[i] = int(input(f\"x[{i}]값을 입력: \"))\n",
    "\n",
    "print(f\"배열원소: {x}\")\n",
    "\n",
    "reverse_array(x)\n",
    "\n",
    "print(f\"역순정렬 후 배열원소: {x}\")"
   ]
  },
  {
   "cell_type": "code",
   "execution_count": 28,
   "id": "streaming-rebound",
   "metadata": {},
   "outputs": [
    {
     "name": "stdout",
     "output_type": "stream",
     "text": [
      "배열원소: [7, 6, 9, 3, 1, 5, 2]\n",
      "역순정렬 후 배열원소: [2, 5, 1, 3, 9, 6, 7]\n"
     ]
    }
   ],
   "source": [
    "# 리스트 내부에 역순기능 존재\n",
    "print(f\"배열원소: {x}\")\n",
    "\n",
    "x.reverse()\n",
    "\n",
    "print(f\"역순정렬 후 배열원소: {x}\")"
   ]
  },
  {
   "cell_type": "markdown",
   "id": "artificial-worst",
   "metadata": {},
   "source": [
    "### 기수 변환\n",
    "10진수 정수 값을 입력 받아 2~36진수 변환"
   ]
  },
  {
   "cell_type": "code",
   "execution_count": 29,
   "id": "thirty-mattress",
   "metadata": {},
   "outputs": [],
   "source": [
    "def card_conv(x: int, r: int) -> str:\n",
    "    d = ''\n",
    "    dchar = '0123456789ABCDEFGHIJKLMNOPQRSTUVWXYZ'\n",
    "    \n",
    "    while x > 0:\n",
    "        d += dchar[x % r]\n",
    "        x //= r\n",
    "        \n",
    "    return d[::-1]"
   ]
  },
  {
   "cell_type": "code",
   "execution_count": 30,
   "id": "pregnant-fantasy",
   "metadata": {},
   "outputs": [
    {
     "data": {
      "text/plain": [
       "'11101'"
      ]
     },
     "execution_count": 30,
     "metadata": {},
     "output_type": "execute_result"
    }
   ],
   "source": [
    "card_conv(29, 2)"
   ]
  },
  {
   "cell_type": "markdown",
   "id": "political-warehouse",
   "metadata": {},
   "source": [
    "### 1~n 까지 정수의 합 구하기"
   ]
  },
  {
   "cell_type": "code",
   "execution_count": 31,
   "id": "lesser-criminal",
   "metadata": {},
   "outputs": [],
   "source": [
    "def sum_1ton(n):\n",
    "    s = 0\n",
    "    while n > 0:\n",
    "        s += n\n",
    "        n -= 1\n",
    "    return s"
   ]
  },
  {
   "cell_type": "code",
   "execution_count": 33,
   "id": "based-brand",
   "metadata": {},
   "outputs": [
    {
     "data": {
      "text/plain": [
       "55"
      ]
     },
     "execution_count": 33,
     "metadata": {},
     "output_type": "execute_result"
    }
   ],
   "source": [
    "sum_1ton(10)"
   ]
  },
  {
   "cell_type": "markdown",
   "id": "pharmaceutical-jewel",
   "metadata": {},
   "source": [
    "### 함수 내 임의 원소값 변경하기"
   ]
  },
  {
   "cell_type": "code",
   "execution_count": 34,
   "id": "soviet-control",
   "metadata": {},
   "outputs": [],
   "source": [
    "def change(lst, idx, val):\n",
    "    lst[idx] = val"
   ]
  },
  {
   "cell_type": "code",
   "execution_count": 36,
   "id": "impressive-argument",
   "metadata": {},
   "outputs": [
    {
     "name": "stdout",
     "output_type": "stream",
     "text": [
      "배열원소: [11, 22, 33, 44, 55]\n",
      "변경후 배열원소: [11, 22, 88, 44, 55]\n"
     ]
    }
   ],
   "source": [
    "x = [11, 22, 33, 44, 55]\n",
    "index, value = 2, 88\n",
    "\n",
    "print(f\"배열원소: {x}\")\n",
    "\n",
    "change(x, index, value)\n",
    "\n",
    "print(f\"변경후 배열원소: {x}\")"
   ]
  },
  {
   "cell_type": "code",
   "execution_count": null,
   "id": "reported-muslim",
   "metadata": {},
   "outputs": [],
   "source": []
  }
 ],
 "metadata": {
  "kernelspec": {
   "display_name": "Python 3",
   "language": "python",
   "name": "python3"
  },
  "language_info": {
   "codemirror_mode": {
    "name": "ipython",
    "version": 3
   },
   "file_extension": ".py",
   "mimetype": "text/x-python",
   "name": "python",
   "nbconvert_exporter": "python",
   "pygments_lexer": "ipython3",
   "version": "3.8.7"
  }
 },
 "nbformat": 4,
 "nbformat_minor": 5
}
