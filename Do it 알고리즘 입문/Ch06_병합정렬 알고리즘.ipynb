{
 "cells": [
  {
   "cell_type": "markdown",
   "id": "fixed-might",
   "metadata": {},
   "source": [
    "### 두 배열 병합하기"
   ]
  },
  {
   "cell_type": "code",
   "execution_count": 1,
   "id": "split-insulation",
   "metadata": {},
   "outputs": [],
   "source": [
    "def merge_sorted_list(a, b, c):\n",
    "    pa, pb, pc = 0, 0, 0\n",
    "    na, nb, nc = len(a), len(b), len(c)\n",
    "    \n",
    "    while pa < na and pb < nb:\n",
    "        if a[pa] <= b[pb]:\n",
    "            c[pc] = a[pa]\n",
    "            pa += 1\n",
    "        else:\n",
    "            c[pc] = b[pb]\n",
    "            pb += 1\n",
    "        pc += 1\n",
    "        \n",
    "    while pa < na:\n",
    "        c[pc] = a[pa]\n",
    "        pa += 1\n",
    "        pc += 1\n",
    "        \n",
    "    while pb < nb:\n",
    "        c[pc] = b[pb]\n",
    "        pb += 1\n",
    "        pc += 1"
   ]
  },
  {
   "cell_type": "code",
   "execution_count": 3,
   "id": "breathing-boring",
   "metadata": {},
   "outputs": [
    {
     "data": {
      "text/plain": [
       "[1, 2, 2, 3, 4, 4, 6, 8, 9, 11, 13, 16, 21]"
      ]
     },
     "execution_count": 3,
     "metadata": {},
     "output_type": "execute_result"
    }
   ],
   "source": [
    "a = [2, 4, 6, 8, 11, 13]\n",
    "b = [1, 2, 3, 4, 9 ,16, 21]\n",
    "c = [None] * (len(a) + len(b))\n",
    "\n",
    "merge_sorted_list(a, b, c)\n",
    "c"
   ]
  },
  {
   "cell_type": "markdown",
   "id": "altered-average",
   "metadata": {},
   "source": [
    "### sorted() 함수로 병합 정렬하기"
   ]
  },
  {
   "cell_type": "code",
   "execution_count": 4,
   "id": "hairy-review",
   "metadata": {},
   "outputs": [
    {
     "data": {
      "text/plain": [
       "[1, 2, 2, 3, 4, 4, 6, 8, 9, 11, 13, 16, 21]"
      ]
     },
     "execution_count": 4,
     "metadata": {},
     "output_type": "execute_result"
    }
   ],
   "source": [
    "import heapq\n",
    "\n",
    "a = [2, 4, 6, 8, 11, 13]\n",
    "b = [1, 2, 3, 4, 9 ,16, 21]\n",
    "c = list(heapq.merge(a, b))\n",
    "c"
   ]
  },
  {
   "cell_type": "markdown",
   "id": "handmade-apple",
   "metadata": {},
   "source": [
    "### 병합 정렬"
   ]
  },
  {
   "cell_type": "code",
   "execution_count": 6,
   "id": "refined-scroll",
   "metadata": {},
   "outputs": [],
   "source": [
    "def merge_sort(a):\n",
    "    \n",
    "    def _merge_sort(a, left, right):\n",
    "        \n",
    "        if left < right:\n",
    "            center = (left + right) // 2\n",
    "            \n",
    "            _merge_sort(a, left, center)\n",
    "            _merge_sort(a, center+1, right)\n",
    "            \n",
    "            p = j = 0\n",
    "            i = k = left\n",
    "            \n",
    "            while i <= center:\n",
    "                buff[p] = a[i]\n",
    "                p += 1\n",
    "                i += 1\n",
    "                \n",
    "            while i <= right and j < p:\n",
    "                if buff[j] <= a[i]:\n",
    "                    a[k] = buff[j]\n",
    "                    j += 1\n",
    "                else:\n",
    "                    a[k] = a[i]\n",
    "                    i += 1\n",
    "                k += 1\n",
    "                \n",
    "            while j < p:\n",
    "                a[k] = buff[j]\n",
    "                k += 1\n",
    "                j += 1\n",
    "    \n",
    "    n = len(a)\n",
    "    buff = [None] * n\n",
    "    _merge_sort(a, 0, n-1)\n",
    "    \n",
    "    del buff"
   ]
  },
  {
   "cell_type": "code",
   "execution_count": 7,
   "id": "expected-poverty",
   "metadata": {},
   "outputs": [
    {
     "data": {
      "text/plain": [
       "[1, 2, 3, 3, 4, 5, 6, 6, 7, 8, 11, 12]"
      ]
     },
     "execution_count": 7,
     "metadata": {},
     "output_type": "execute_result"
    }
   ],
   "source": [
    "x = [1, 3, 12, 6, 4, 11, 8, 7, 3, 2, 6, 5]\n",
    "merge_sort(x)\n",
    "x"
   ]
  },
  {
   "cell_type": "code",
   "execution_count": null,
   "id": "funky-pharmaceutical",
   "metadata": {},
   "outputs": [],
   "source": []
  }
 ],
 "metadata": {
  "kernelspec": {
   "display_name": "Python 3",
   "language": "python",
   "name": "python3"
  },
  "language_info": {
   "codemirror_mode": {
    "name": "ipython",
    "version": 3
   },
   "file_extension": ".py",
   "mimetype": "text/x-python",
   "name": "python",
   "nbconvert_exporter": "python",
   "pygments_lexer": "ipython3",
   "version": "3.8.7"
  }
 },
 "nbformat": 4,
 "nbformat_minor": 5
}
