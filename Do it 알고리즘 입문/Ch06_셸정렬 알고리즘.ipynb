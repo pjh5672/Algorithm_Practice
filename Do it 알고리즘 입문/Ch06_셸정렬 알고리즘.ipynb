{
 "cells": [
  {
   "cell_type": "markdown",
   "id": "graphic-decision",
   "metadata": {},
   "source": [
    "### 쉘 정렬"
   ]
  },
  {
   "cell_type": "code",
   "execution_count": 5,
   "id": "thrown-pledge",
   "metadata": {},
   "outputs": [],
   "source": [
    "def shell_sort(a):\n",
    "    count = 0\n",
    "    n = len(a)\n",
    "    h = n // 2\n",
    "    \n",
    "    while h > 0:\n",
    "        for i in range(h, n):\n",
    "            j = i - h\n",
    "            tmp = a[i]\n",
    "            while j >= 0 and a[j] > tmp:\n",
    "                a[j+h] = a[j]\n",
    "                j -= h\n",
    "                count += 1\n",
    "            a[j+h] = tmp\n",
    "        h //= 2\n",
    "    print(count)"
   ]
  },
  {
   "cell_type": "code",
   "execution_count": 6,
   "id": "headed-dimension",
   "metadata": {},
   "outputs": [
    {
     "name": "stdout",
     "output_type": "stream",
     "text": [
      "12\n"
     ]
    },
    {
     "data": {
      "text/plain": [
       "[1, 2, 3, 4, 5, 6, 7, 8]"
      ]
     },
     "execution_count": 6,
     "metadata": {},
     "output_type": "execute_result"
    }
   ],
   "source": [
    "x = [8, 1, 4, 2, 7, 6, 3, 5]\n",
    "shell_sort(x)\n",
    "x"
   ]
  },
  {
   "cell_type": "markdown",
   "id": "underlying-wilson",
   "metadata": {},
   "source": [
    "### 수열(h*3 + 1) 사용하여 셸 정렬"
   ]
  },
  {
   "cell_type": "code",
   "execution_count": 7,
   "id": "derived-barbados",
   "metadata": {},
   "outputs": [],
   "source": [
    "def shell_sort(a):\n",
    "    count = 0\n",
    "    n = len(a)\n",
    "    h = 1\n",
    "    \n",
    "    while h < n//9:\n",
    "        h = h * 3 + 1\n",
    "        \n",
    "    while h > 0:\n",
    "        for i in range(h, n):\n",
    "            j = i - h\n",
    "            tmp = a[i]\n",
    "            while j >= 0 and a[j] > tmp:\n",
    "                a[j+h] = a[j]\n",
    "                j -= h\n",
    "                count += 1\n",
    "            a[j+h] = tmp\n",
    "        h //= 3\n",
    "    print(count)"
   ]
  },
  {
   "cell_type": "code",
   "execution_count": 8,
   "id": "progressive-intersection",
   "metadata": {},
   "outputs": [
    {
     "name": "stdout",
     "output_type": "stream",
     "text": [
      "14\n"
     ]
    },
    {
     "data": {
      "text/plain": [
       "[1, 2, 3, 4, 5, 6, 7, 8]"
      ]
     },
     "execution_count": 8,
     "metadata": {},
     "output_type": "execute_result"
    }
   ],
   "source": [
    "x = [8, 1, 4, 2, 7, 6, 3, 5]\n",
    "shell_sort(x)\n",
    "x"
   ]
  },
  {
   "cell_type": "code",
   "execution_count": null,
   "id": "worse-swing",
   "metadata": {},
   "outputs": [],
   "source": []
  }
 ],
 "metadata": {
  "kernelspec": {
   "display_name": "Python 3",
   "language": "python",
   "name": "python3"
  },
  "language_info": {
   "codemirror_mode": {
    "name": "ipython",
    "version": 3
   },
   "file_extension": ".py",
   "mimetype": "text/x-python",
   "name": "python",
   "nbconvert_exporter": "python",
   "pygments_lexer": "ipython3",
   "version": "3.8.7"
  }
 },
 "nbformat": 4,
 "nbformat_minor": 5
}
