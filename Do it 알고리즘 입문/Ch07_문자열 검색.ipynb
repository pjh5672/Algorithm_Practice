{
 "cells": [
  {
   "cell_type": "markdown",
   "id": "introductory-clinton",
   "metadata": {},
   "source": [
    "### 브루트 포스법"
   ]
  },
  {
   "cell_type": "code",
   "execution_count": 1,
   "id": "assigned-psychiatry",
   "metadata": {},
   "outputs": [],
   "source": [
    "def bf_match(txt, pat):\n",
    "    pt = 0\n",
    "    pp = 0\n",
    "    \n",
    "    while pt != len(txt) and pp != len(pat):\n",
    "        if txt[pt] == pat[pp]:\n",
    "            pt += 1\n",
    "            pp += 1\n",
    "        else:\n",
    "            pt = pt - pp + 1\n",
    "            pp = 0\n",
    "    \n",
    "    return pt - pp if pp == len(pat) else - 1"
   ]
  },
  {
   "cell_type": "code",
   "execution_count": 3,
   "id": "round-blogger",
   "metadata": {},
   "outputs": [
    {
     "data": {
      "text/plain": [
       "2"
      ]
     },
     "execution_count": 3,
     "metadata": {},
     "output_type": "execute_result"
    }
   ],
   "source": [
    "txt = 'ABABCDEFGHA'\n",
    "pat = 'ABC'\n",
    "bf_match(txt, pat)"
   ]
  },
  {
   "cell_type": "markdown",
   "id": "outdoor-notice",
   "metadata": {},
   "source": [
    "### KMP법"
   ]
  },
  {
   "cell_type": "code",
   "execution_count": 15,
   "id": "moved-swaziland",
   "metadata": {},
   "outputs": [],
   "source": [
    "def kmp_match(txt, pat):\n",
    "    pt = 1 # txt 포인터커서\n",
    "    pp = 0 # pat 포인터커서\n",
    "    skip = [0] * (len(pat) + 1) # skip table\n",
    "    \n",
    "    # skip table 작성\n",
    "    skip[pt] = 0\n",
    "    while pt != len(pat):\n",
    "        if pat[pt] == pat[pp]:\n",
    "            pt += 1\n",
    "            pp += 1\n",
    "            skip[pt] = pp\n",
    "        elif pp == 0:\n",
    "            pt += 1\n",
    "            skip[pt] = pp\n",
    "        else:\n",
    "            pp = skip[pp]\n",
    "    \n",
    "    # 문자열 검색\n",
    "    pt = pp = 0\n",
    "    while pt != len(txt) and pp != len(pat):\n",
    "        if txt[pt] == pat[pp]:\n",
    "            pt += 1\n",
    "            pp += 1\n",
    "        elif pp == 0:\n",
    "            pt += 1\n",
    "        else:\n",
    "            pp = skip[pp]\n",
    "            \n",
    "    return pt - pp if pp == len(pat) else -1"
   ]
  },
  {
   "cell_type": "code",
   "execution_count": 16,
   "id": "heard-slovak",
   "metadata": {},
   "outputs": [
    {
     "data": {
      "text/plain": [
       "2"
      ]
     },
     "execution_count": 16,
     "metadata": {},
     "output_type": "execute_result"
    }
   ],
   "source": [
    "txt = 'ABABCDEFGHA'\n",
    "pat = 'ABCD'\n",
    "kmp_match(txt, pat)"
   ]
  },
  {
   "cell_type": "markdown",
   "id": "adjustable-workplace",
   "metadata": {},
   "source": [
    "### 보이어, 무어법"
   ]
  },
  {
   "cell_type": "code",
   "execution_count": 24,
   "id": "comic-delivery",
   "metadata": {},
   "outputs": [],
   "source": [
    "def bm_match(txt, pat):\n",
    "    skip = [None] * 256\n",
    "    \n",
    "    for pt in range(256):\n",
    "        skip[pt] = len(pat)\n",
    "    for pt in range(len(pat)):\n",
    "        skip[ord(pat[pt])] = len(pat) - pt - 1\n",
    "        \n",
    "    while pt < len(txt):\n",
    "        pp = len(pat) - 1\n",
    "        while txt[pt] == pat[pp]:\n",
    "            if pp == 0:\n",
    "                return pt\n",
    "            pt -= 1\n",
    "            pp -= 1\n",
    "        pt += skip[ord(txt[pt])] if skip[ord(txt[pt])] > len(pat) - pp else len(pat) - pp\n",
    "    \n",
    "    return -1"
   ]
  },
  {
   "cell_type": "code",
   "execution_count": 25,
   "id": "opposed-simon",
   "metadata": {},
   "outputs": [
    {
     "data": {
      "text/plain": [
       "2"
      ]
     },
     "execution_count": 25,
     "metadata": {},
     "output_type": "execute_result"
    }
   ],
   "source": [
    "txt = 'ABABCDEFGHA'\n",
    "pat = 'ABC'\n",
    "bm_match(txt, pat)"
   ]
  },
  {
   "cell_type": "code",
   "execution_count": null,
   "id": "matched-binding",
   "metadata": {},
   "outputs": [],
   "source": []
  }
 ],
 "metadata": {
  "kernelspec": {
   "display_name": "Python 3",
   "language": "python",
   "name": "python3"
  },
  "language_info": {
   "codemirror_mode": {
    "name": "ipython",
    "version": 3
   },
   "file_extension": ".py",
   "mimetype": "text/x-python",
   "name": "python",
   "nbconvert_exporter": "python",
   "pygments_lexer": "ipython3",
   "version": "3.8.7"
  }
 },
 "nbformat": 4,
 "nbformat_minor": 5
}
