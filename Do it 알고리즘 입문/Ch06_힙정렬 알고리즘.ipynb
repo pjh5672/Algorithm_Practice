{
 "cells": [
  {
   "cell_type": "markdown",
   "id": "thirty-decimal",
   "metadata": {},
   "source": [
    "### 힙 정렬"
   ]
  },
  {
   "cell_type": "code",
   "execution_count": 2,
   "id": "cultural-sculpture",
   "metadata": {},
   "outputs": [],
   "source": [
    "def heap_sort(a, left, right):\n",
    "    \n",
    "    def down_heap(a, left, right):\n",
    "        temp = a[left]\n",
    "\n",
    "        parent = left\n",
    "        while parent < (right + 1) // 2:\n",
    "            cl = parent * 2 + 1\n",
    "            cr = cl + 1\n",
    "            child = cr if cr <= right and a[cr] > a[cl] else cl\n",
    "            if temp >= a[child]:\n",
    "                break\n",
    "            a[parent] = a[child]\n",
    "            parent = child\n",
    "        a[parent] = temp\n",
    "        \n",
    "    n = len(a)\n",
    "    \n",
    "    for i in range((n-1)//2, -1, -1):\n",
    "        down_heap(a, i, n-1)\n",
    "    \n",
    "    for i in range(n-1, 0, -1):\n",
    "        a[0], a[i] = a[i], a[0]\n",
    "        down_heap(a, 0, i-1)"
   ]
  },
  {
   "cell_type": "code",
   "execution_count": 4,
   "id": "written-prisoner",
   "metadata": {},
   "outputs": [
    {
     "data": {
      "text/plain": [
       "[1, 3, 4, 6, 7, 8, 9]"
      ]
     },
     "execution_count": 4,
     "metadata": {},
     "output_type": "execute_result"
    }
   ],
   "source": [
    "x = [6, 4, 3, 7, 1, 9, 8]\n",
    "heap_sort(x, 0, len(x))\n",
    "x"
   ]
  },
  {
   "cell_type": "markdown",
   "id": "racial-group",
   "metadata": {},
   "source": [
    "### heapq 모듈 사용하여 힙 정렬"
   ]
  },
  {
   "cell_type": "code",
   "execution_count": 16,
   "id": "under-grammar",
   "metadata": {},
   "outputs": [],
   "source": [
    "import heapq\n",
    "\n",
    "def heap_sort(a):\n",
    "    heap = []\n",
    "    \n",
    "    for i in a:\n",
    "        heapq.heappush(heap, i)\n",
    "    for i in range(len(a)):\n",
    "        a[i] = heapq.heappop(heap)"
   ]
  },
  {
   "cell_type": "code",
   "execution_count": 17,
   "id": "arbitrary-spectrum",
   "metadata": {},
   "outputs": [
    {
     "data": {
      "text/plain": [
       "[1, 3, 4, 6, 7, 8, 9]"
      ]
     },
     "execution_count": 17,
     "metadata": {},
     "output_type": "execute_result"
    }
   ],
   "source": [
    "x = [6, 4, 3, 7, 1, 9, 8]\n",
    "heap_sort(x)\n",
    "x"
   ]
  },
  {
   "cell_type": "code",
   "execution_count": null,
   "id": "incident-citizenship",
   "metadata": {},
   "outputs": [],
   "source": []
  }
 ],
 "metadata": {
  "kernelspec": {
   "display_name": "Python 3",
   "language": "python",
   "name": "python3"
  },
  "language_info": {
   "codemirror_mode": {
    "name": "ipython",
    "version": 3
   },
   "file_extension": ".py",
   "mimetype": "text/x-python",
   "name": "python",
   "nbconvert_exporter": "python",
   "pygments_lexer": "ipython3",
   "version": "3.8.7"
  }
 },
 "nbformat": 4,
 "nbformat_minor": 5
}
