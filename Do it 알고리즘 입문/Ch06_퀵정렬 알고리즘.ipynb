{
 "cells": [
  {
   "cell_type": "markdown",
   "id": "latest-finance",
   "metadata": {},
   "source": [
    "### 배열을 피벗 기준으로 나누기"
   ]
  },
  {
   "cell_type": "code",
   "execution_count": 1,
   "id": "afraid-zambia",
   "metadata": {},
   "outputs": [],
   "source": [
    "def partition(a):\n",
    "    count = 0\n",
    "    n = len(a)\n",
    "    pl = 0\n",
    "    pr = n-1\n",
    "    x = a[n//2]\n",
    "    \n",
    "    while pl <= pr:\n",
    "        while a[pl] < x: pl += 1\n",
    "        while a[pr] > x: pr -= 1\n",
    "        if pl <= pr:\n",
    "            a[pl], a[pr] = a[pr], a[pl]\n",
    "            pl += 1\n",
    "            pr -= 1\n",
    "            count += 1\n",
    "    \n",
    "    print(f'피벗은 {x}입니다')\n",
    "    \n",
    "    print('피벗 이하인 그룹입니다.')\n",
    "    print(*a[0:pl])\n",
    "    \n",
    "    if pl > pr + 1:\n",
    "        print('피벗과 일치하는 그룹입니다.')\n",
    "        print(*a[pr+1:pl])\n",
    "        \n",
    "        print('피벗 이상인 그룹입니다.')\n",
    "        print(*a[pr+1:n])"
   ]
  },
  {
   "cell_type": "code",
   "execution_count": 2,
   "id": "standard-hanging",
   "metadata": {},
   "outputs": [
    {
     "name": "stdout",
     "output_type": "stream",
     "text": [
      "피벗은 5입니다\n",
      "피벗 이하인 그룹입니다.\n",
      "1 3 2 4 5\n",
      "피벗과 일치하는 그룹입니다.\n",
      "5\n",
      "피벗 이상인 그룹입니다.\n",
      "5 7 6 8 9\n"
     ]
    },
    {
     "data": {
      "text/plain": [
       "[1, 3, 2, 4, 5, 7, 6, 8, 9]"
      ]
     },
     "execution_count": 2,
     "metadata": {},
     "output_type": "execute_result"
    }
   ],
   "source": [
    "x = [1, 8, 7, 4, 5, 2, 6, 3, 9]\n",
    "partition(x)\n",
    "x"
   ]
  },
  {
   "cell_type": "markdown",
   "id": "affiliated-sodium",
   "metadata": {},
   "source": [
    "### 퀵 정렬"
   ]
  },
  {
   "cell_type": "code",
   "execution_count": 6,
   "id": "three-edward",
   "metadata": {},
   "outputs": [],
   "source": [
    "def qsort(a, left, right):\n",
    "    pl = left\n",
    "    pr = right\n",
    "    x = a[(left + right) // 2]\n",
    "    \n",
    "    # 나누는 과정 출력\n",
    "    print(f'a[{left}] ~ a[{right}]:', *a[left:right+1])\n",
    "    \n",
    "    while pl <= pr:\n",
    "        while a[pl] < x: pl += 1\n",
    "        while a[pr] > x: pr -= 1\n",
    "        \n",
    "        if pl <= pr:\n",
    "            a[pl], a[pr] = a[pr], a[pl]\n",
    "            pl += 1\n",
    "            pr -= 1\n",
    "    \n",
    "    if left < pr: qsort(a, left, pr)\n",
    "    if pl < right: qsort(a, pl, right)\n",
    "\n",
    "def quick_sort(a):\n",
    "    qsort(a, 0, len(a)-1)"
   ]
  },
  {
   "cell_type": "code",
   "execution_count": 7,
   "id": "apparent-separate",
   "metadata": {},
   "outputs": [
    {
     "name": "stdout",
     "output_type": "stream",
     "text": [
      "a[0] ~ a[8]: 5 8 4 2 6 1 3 9 7\n",
      "a[0] ~ a[4]: 5 3 4 2 1\n",
      "a[0] ~ a[2]: 1 3 2\n",
      "a[0] ~ a[1]: 1 2\n",
      "a[3] ~ a[4]: 4 5\n",
      "a[5] ~ a[8]: 6 8 9 7\n",
      "a[5] ~ a[6]: 6 7\n",
      "a[7] ~ a[8]: 9 8\n"
     ]
    },
    {
     "data": {
      "text/plain": [
       "[1, 2, 3, 4, 5, 6, 7, 8, 9]"
      ]
     },
     "execution_count": 7,
     "metadata": {},
     "output_type": "execute_result"
    }
   ],
   "source": [
    "x = [5, 8, 4, 2, 6, 1, 3, 9, 7]\n",
    "quick_sort(x)\n",
    "x"
   ]
  },
  {
   "cell_type": "markdown",
   "id": "appointed-louis",
   "metadata": {},
   "source": [
    "### 비재귀적 큐 정렬"
   ]
  },
  {
   "cell_type": "code",
   "execution_count": 11,
   "id": "accomplished-dominican",
   "metadata": {},
   "outputs": [],
   "source": [
    "from stack import Stack\n",
    "\n",
    "def qsort(a, left, right):\n",
    "    range = Stack(right - left + 1)\n",
    "    \n",
    "    range.push((left, right))\n",
    "    \n",
    "    while not range.is_empty():\n",
    "        pl, pr = left, right = range.pop()\n",
    "        x = a[(left + right) // 2]\n",
    "        \n",
    "        while pl <= pr:\n",
    "            while a[pl] < x: pl += 1\n",
    "            while a[pr] > x: pr -= 1\n",
    "            if pl <= pr:\n",
    "                a[pl], a[pr] = a[pr], a[pl]\n",
    "                pl += 1\n",
    "                pr -= 1\n",
    "        \n",
    "        if left < pr: range.push((left, pr))\n",
    "        if pl < right: range.push((pl, right))\n",
    "            \n",
    "def quick_sort(a):\n",
    "    qsort(a, 0, len(a)-1)"
   ]
  },
  {
   "cell_type": "code",
   "execution_count": 12,
   "id": "configured-costume",
   "metadata": {},
   "outputs": [
    {
     "data": {
      "text/plain": [
       "[1, 2, 3, 4, 5, 6, 7, 8, 9]"
      ]
     },
     "execution_count": 12,
     "metadata": {},
     "output_type": "execute_result"
    }
   ],
   "source": [
    "x = [5, 8, 4, 2, 6, 1, 3, 9, 7]\n",
    "quick_sort(x)\n",
    "x"
   ]
  },
  {
   "cell_type": "code",
   "execution_count": 14,
   "id": "enormous-consultation",
   "metadata": {},
   "outputs": [
    {
     "data": {
      "text/plain": [
       "(1, 2, 3, 4, 5, 6, 7, 8, 9)"
      ]
     },
     "execution_count": 14,
     "metadata": {},
     "output_type": "execute_result"
    }
   ],
   "source": [
    "x = [5, 8, 4, 2, 6, 1, 3, 9, 7]\n",
    "x = tuple(sorted(x))\n",
    "x"
   ]
  },
  {
   "cell_type": "code",
   "execution_count": null,
   "id": "worst-responsibility",
   "metadata": {},
   "outputs": [],
   "source": []
  }
 ],
 "metadata": {
  "kernelspec": {
   "display_name": "Python 3",
   "language": "python",
   "name": "python3"
  },
  "language_info": {
   "codemirror_mode": {
    "name": "ipython",
    "version": 3
   },
   "file_extension": ".py",
   "mimetype": "text/x-python",
   "name": "python",
   "nbconvert_exporter": "python",
   "pygments_lexer": "ipython3",
   "version": "3.8.7"
  }
 },
 "nbformat": 4,
 "nbformat_minor": 5
}
