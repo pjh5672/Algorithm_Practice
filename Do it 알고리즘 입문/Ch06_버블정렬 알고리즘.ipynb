{
 "cells": [
  {
   "cell_type": "markdown",
   "id": "regular-dominant",
   "metadata": {},
   "source": [
    "### 버블 정렬 알고리즘"
   ]
  },
  {
   "cell_type": "code",
   "execution_count": 63,
   "id": "prescribed-beatles",
   "metadata": {},
   "outputs": [],
   "source": [
    "def bubble_sort(a):\n",
    "    count = 0\n",
    "    n = len(a)\n",
    "    for i in range(n-1):\n",
    "        for j in range(n-1, i, -1):\n",
    "            if a[j-1] > a[j]:\n",
    "                a[j-1], a[j] = a[j], a[j-1]\n",
    "            count += 1\n",
    "    print(count)"
   ]
  },
  {
   "cell_type": "code",
   "execution_count": 64,
   "id": "silver-replacement",
   "metadata": {},
   "outputs": [
    {
     "name": "stdout",
     "output_type": "stream",
     "text": [
      "21\n",
      "[1, 3, 4, 6, 7, 8, 9]\n"
     ]
    }
   ],
   "source": [
    "x = [6, 4, 3, 7, 1, 9, 8]\n",
    "bubble_sort(x)\n",
    "print(x)"
   ]
  },
  {
   "cell_type": "markdown",
   "id": "surprised-classification",
   "metadata": {},
   "source": [
    "### 알고리즘 개선"
   ]
  },
  {
   "cell_type": "code",
   "execution_count": 67,
   "id": "accepted-louis",
   "metadata": {},
   "outputs": [],
   "source": [
    "def bubble_sort(a):\n",
    "    count = 0\n",
    "    n = len(a)\n",
    "    k = 0\n",
    "    while k < n-1:\n",
    "        last = n-1\n",
    "        exchng = 0\n",
    "        for j in range(n-1, k, -1):\n",
    "            if a[j-1] > a[j]:\n",
    "                a[j-1], a[j] = a[j], a[j-1]\n",
    "                last = j\n",
    "            count += 1\n",
    "        k = last\n",
    "    print(count)"
   ]
  },
  {
   "cell_type": "code",
   "execution_count": 68,
   "id": "analyzed-painting",
   "metadata": {},
   "outputs": [
    {
     "name": "stdout",
     "output_type": "stream",
     "text": [
      "18\n",
      "[1, 3, 4, 6, 7, 8, 9]\n"
     ]
    }
   ],
   "source": [
    "x = [6, 4, 3, 7, 1, 9, 8]\n",
    "bubble_sort(x)\n",
    "print(x)"
   ]
  },
  {
   "cell_type": "markdown",
   "id": "under-consultation",
   "metadata": {},
   "source": [
    "### 쉐이커 정렬"
   ]
  },
  {
   "cell_type": "code",
   "execution_count": 69,
   "id": "phantom-cancellation",
   "metadata": {},
   "outputs": [],
   "source": [
    "def shaker_sort(a):\n",
    "    left = 0\n",
    "    right = len(a) - 1\n",
    "    last = right\n",
    "    count = 0  \n",
    "    while left < right:\n",
    "        for j in range(right, left, -1):\n",
    "            if a[j-1] > a[j]:\n",
    "                a[j-1], a[j] = a[j], a[j-1]\n",
    "                last = j\n",
    "            count += 1\n",
    "        left = last\n",
    "        \n",
    "        for j in range(left, right):\n",
    "            if a[j] > a[j+1]:\n",
    "                a[j], a[j+1] = a[j+1], a[j]\n",
    "                last = j\n",
    "            count += 1\n",
    "        right = last\n",
    "    print(count)"
   ]
  },
  {
   "cell_type": "code",
   "execution_count": 70,
   "id": "direct-march",
   "metadata": {},
   "outputs": [
    {
     "name": "stdout",
     "output_type": "stream",
     "text": [
      "21\n",
      "[1, 3, 4, 6, 7, 8, 9]\n"
     ]
    }
   ],
   "source": [
    "x = [9, 1, 3, 4, 6, 7, 8]\n",
    "bubble_sort(x)\n",
    "print(x)"
   ]
  },
  {
   "cell_type": "code",
   "execution_count": 71,
   "id": "earned-dubai",
   "metadata": {},
   "outputs": [
    {
     "name": "stdout",
     "output_type": "stream",
     "text": [
      "15\n",
      "[1, 3, 4, 6, 7, 8, 9]\n"
     ]
    }
   ],
   "source": [
    "x = [9, 1, 3, 4, 6, 7, 8]\n",
    "shaker_sort(x)\n",
    "print(x)"
   ]
  },
  {
   "cell_type": "code",
   "execution_count": null,
   "id": "concerned-hardwood",
   "metadata": {},
   "outputs": [],
   "source": []
  }
 ],
 "metadata": {
  "kernelspec": {
   "display_name": "Python 3",
   "language": "python",
   "name": "python3"
  },
  "language_info": {
   "codemirror_mode": {
    "name": "ipython",
    "version": 3
   },
   "file_extension": ".py",
   "mimetype": "text/x-python",
   "name": "python",
   "nbconvert_exporter": "python",
   "pygments_lexer": "ipython3",
   "version": "3.8.7"
  }
 },
 "nbformat": 4,
 "nbformat_minor": 5
}
