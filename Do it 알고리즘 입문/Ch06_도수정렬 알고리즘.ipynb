{
 "cells": [
  {
   "cell_type": "markdown",
   "id": "central-identification",
   "metadata": {},
   "source": [
    "### 도수 정렬"
   ]
  },
  {
   "cell_type": "code",
   "execution_count": 1,
   "id": "located-ghost",
   "metadata": {},
   "outputs": [],
   "source": [
    "def fsort(a, max):\n",
    "    n = len(a)\n",
    "    f = [0] * (max + 1)\n",
    "    b = [0] * n\n",
    "    \n",
    "    for i in range(n): f[a[i]] += 1\n",
    "    for i in range(1, max+1): f[i] += f[i-1]\n",
    "    for i in range(n-1, -1, -1): f[a[i]] -= 1; b[f[a[i]]] = a[i]\n",
    "    for i in range(n): a[i] = b[i]\n",
    "\n",
    "def counting_sort(a):\n",
    "    fsort(a, max(a))"
   ]
  },
  {
   "cell_type": "code",
   "execution_count": 2,
   "id": "super-devil",
   "metadata": {},
   "outputs": [
    {
     "data": {
      "text/plain": [
       "[5, 11, 22, 32, 68, 70, 99]"
      ]
     },
     "execution_count": 2,
     "metadata": {},
     "output_type": "execute_result"
    }
   ],
   "source": [
    "x = [22, 5, 11, 32, 99, 68, 70]\n",
    "counting_sort(x)\n",
    "x"
   ]
  },
  {
   "cell_type": "code",
   "execution_count": null,
   "id": "minus-omaha",
   "metadata": {},
   "outputs": [],
   "source": []
  }
 ],
 "metadata": {
  "kernelspec": {
   "display_name": "Python 3",
   "language": "python",
   "name": "python3"
  },
  "language_info": {
   "codemirror_mode": {
    "name": "ipython",
    "version": 3
   },
   "file_extension": ".py",
   "mimetype": "text/x-python",
   "name": "python",
   "nbconvert_exporter": "python",
   "pygments_lexer": "ipython3",
   "version": "3.8.7"
  }
 },
 "nbformat": 4,
 "nbformat_minor": 5
}
