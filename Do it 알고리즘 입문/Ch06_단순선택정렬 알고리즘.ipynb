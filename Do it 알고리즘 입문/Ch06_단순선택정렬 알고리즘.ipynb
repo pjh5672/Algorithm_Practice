{
 "cells": [
  {
   "cell_type": "markdown",
   "id": "successful-lesbian",
   "metadata": {},
   "source": [
    "### 단순 선택 정렬"
   ]
  },
  {
   "cell_type": "code",
   "execution_count": 7,
   "id": "painful-ferry",
   "metadata": {},
   "outputs": [],
   "source": [
    "def selection_sort(a):\n",
    "    count = 0\n",
    "    n = len(a)\n",
    "    for i in range(n-1):\n",
    "        min = i\n",
    "        for j in range(i+1, n):\n",
    "            if a[j] < a[min]:\n",
    "                min = j\n",
    "            count += 1\n",
    "        a[i], a[min] = a[min], a[i]\n",
    "    print(count)"
   ]
  },
  {
   "cell_type": "code",
   "execution_count": 8,
   "id": "mineral-evaluation",
   "metadata": {},
   "outputs": [
    {
     "name": "stdout",
     "output_type": "stream",
     "text": [
      "21\n",
      "[1, 3, 4, 6, 7, 8, 9]\n"
     ]
    }
   ],
   "source": [
    "x = [6, 4, 8, 3, 1, 9, 7]\n",
    "selection_sort(x)\n",
    "print(x)"
   ]
  },
  {
   "cell_type": "markdown",
   "id": "connected-boost",
   "metadata": {},
   "source": [
    "### 단순 삽입 정렬"
   ]
  },
  {
   "cell_type": "code",
   "execution_count": 10,
   "id": "smart-frank",
   "metadata": {},
   "outputs": [],
   "source": [
    "def insertion_sort(a):\n",
    "    count = 0\n",
    "    n = len(a)\n",
    "    for i in range(1, n):\n",
    "        j = i\n",
    "        tmp = a[i]\n",
    "        while j>0 and a[j-1] > tmp:\n",
    "            a[j] = a[j-1]\n",
    "            j -= 1\n",
    "            count += 1\n",
    "        a[j] = tmp\n",
    "    print(count)"
   ]
  },
  {
   "cell_type": "code",
   "execution_count": 11,
   "id": "military-lindsay",
   "metadata": {},
   "outputs": [
    {
     "name": "stdout",
     "output_type": "stream",
     "text": [
      "10\n",
      "[1, 3, 4, 6, 7, 8, 9]\n"
     ]
    }
   ],
   "source": [
    "x = [6, 4, 8, 3, 1, 9, 7]\n",
    "insertion_sort(x)\n",
    "print(x)"
   ]
  },
  {
   "cell_type": "markdown",
   "id": "mounted-brazilian",
   "metadata": {},
   "source": [
    "### 이진 삽입 정렬"
   ]
  },
  {
   "cell_type": "code",
   "execution_count": 14,
   "id": "younger-transcription",
   "metadata": {},
   "outputs": [],
   "source": [
    "def binary_insertion_sort(a):\n",
    "    count = 0\n",
    "    n = len(a)\n",
    "    for i in range(1, n):\n",
    "        key = a[i]\n",
    "        pl = 0\n",
    "        pr = i-1\n",
    "        \n",
    "        while True:\n",
    "            pc = (pl + pr) // 2\n",
    "            if a[pc] == key:\n",
    "                break\n",
    "            elif a[pc] < key:\n",
    "                pl = pc + 1\n",
    "            else:\n",
    "                pr = pc - 1\n",
    "            if pl > pr:\n",
    "                break\n",
    "                \n",
    "        pd = pc + 1 if pl <= pr else pr + 1\n",
    "        \n",
    "        for j in range(i, pd, -1):\n",
    "            count += 1\n",
    "            a[j] = a[j-1]\n",
    "        a[pd] = key\n",
    "    print(count)"
   ]
  },
  {
   "cell_type": "code",
   "execution_count": 15,
   "id": "controlled-mills",
   "metadata": {},
   "outputs": [
    {
     "name": "stdout",
     "output_type": "stream",
     "text": [
      "10\n",
      "[1, 3, 4, 6, 7, 8, 9]\n"
     ]
    }
   ],
   "source": [
    "x = [6, 4, 8, 3, 1, 9, 7]\n",
    "binary_insertion_sort(x)\n",
    "print(x)"
   ]
  },
  {
   "cell_type": "code",
   "execution_count": null,
   "id": "worth-spencer",
   "metadata": {},
   "outputs": [],
   "source": []
  }
 ],
 "metadata": {
  "kernelspec": {
   "display_name": "Python 3",
   "language": "python",
   "name": "python3"
  },
  "language_info": {
   "codemirror_mode": {
    "name": "ipython",
    "version": 3
   },
   "file_extension": ".py",
   "mimetype": "text/x-python",
   "name": "python",
   "nbconvert_exporter": "python",
   "pygments_lexer": "ipython3",
   "version": "3.8.7"
  }
 },
 "nbformat": 4,
 "nbformat_minor": 5
}
