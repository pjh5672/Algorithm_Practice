{
 "cells": [
  {
   "cell_type": "markdown",
   "metadata": {},
   "source": [
    "제목: 프린터 큐  \n",
    "난이도: 하  \n",
    "유형: 큐, 구현, 그리디  \n",
    "추천풀이시간: 25분  \n",
    "문제링크: https://www.acmicpc.net/problem/1966"
   ]
  },
  {
   "cell_type": "code",
   "execution_count": 2,
   "metadata": {},
   "outputs": [
    {
     "name": "stdout",
     "output_type": "stream",
     "text": [
      "1\n",
      "4 2\n",
      "2 1 4 3\n",
      "1\n"
     ]
    }
   ],
   "source": [
    "test_case = int(input())\n",
    "\n",
    "for _ in range(test_case):\n",
    "    n, m = list(map(int, input().split(' ')))\n",
    "    queue = list(map(int, input().split(' ')))\n",
    "    queue = [(i, idx) for idx, i in enumerate(queue)]\n",
    "    \n",
    "    count = 0\n",
    "    while True:\n",
    "        if queue[0][0] == max(queue, key=lambda x: x[0])[0]:\n",
    "            count += 1\n",
    "            if queue[0][1] == m:\n",
    "                print(count)\n",
    "                break\n",
    "            else:\n",
    "                queue.pop(0)\n",
    "        else:\n",
    "            queue.append(queue.pop(0))"
   ]
  }
 ],
 "metadata": {
  "kernelspec": {
   "display_name": "Python 3",
   "language": "python",
   "name": "python3"
  },
  "language_info": {
   "codemirror_mode": {
    "name": "ipython",
    "version": 3
   },
   "file_extension": ".py",
   "mimetype": "text/x-python",
   "name": "python",
   "nbconvert_exporter": "python",
   "pygments_lexer": "ipython3",
   "version": "3.7.0"
  }
 },
 "nbformat": 4,
 "nbformat_minor": 4
}
