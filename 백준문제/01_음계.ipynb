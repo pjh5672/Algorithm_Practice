{
 "cells": [
  {
   "cell_type": "markdown",
   "metadata": {},
   "source": [
    "제목: 음계  \n",
    "난이도: 하  \n",
    "유형: 배열, 구현  \n",
    "추천풀이시간: 15분  \n",
    "문제링크: https://www.acmicpc.net/problem/2920"
   ]
  },
  {
   "cell_type": "code",
   "execution_count": 9,
   "metadata": {},
   "outputs": [
    {
     "name": "stdout",
     "output_type": "stream",
     "text": [
      "1 2 3 4 5 6 7 8\n",
      "ascending\n"
     ]
    }
   ],
   "source": [
    "a = list(map(int, input().split(' ')))\n",
    "\n",
    "ascending = True\n",
    "descending = True\n",
    "\n",
    "for i in range(1, 8):\n",
    "    if a[i] > a[i-1]:\n",
    "        descending = False\n",
    "    elif a[i] < a[i-1]:\n",
    "        ascending = False\n",
    "        \n",
    "if ascending:\n",
    "    print('ascending')\n",
    "elif descending:\n",
    "    print('descending')\n",
    "else:\n",
    "    print('mixed')"
   ]
  },
  {
   "cell_type": "code",
   "execution_count": null,
   "metadata": {},
   "outputs": [],
   "source": []
  }
 ],
 "metadata": {
  "kernelspec": {
   "display_name": "Python 3",
   "language": "python",
   "name": "python3"
  },
  "language_info": {
   "codemirror_mode": {
    "name": "ipython",
    "version": 3
   },
   "file_extension": ".py",
   "mimetype": "text/x-python",
   "name": "python",
   "nbconvert_exporter": "python",
   "pygments_lexer": "ipython3",
   "version": "3.7.0"
  }
 },
 "nbformat": 4,
 "nbformat_minor": 4
}
